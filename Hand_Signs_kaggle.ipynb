{
 "cells": [
  {
   "cell_type": "code",
   "execution_count": 1,
   "id": "71de0877",
   "metadata": {},
   "outputs": [],
   "source": [
    "import numpy as np \n",
    "import os \n",
    "import PIL \n",
    "import PIL.Image\n",
    "import tensorflow as tf\n",
    "import tensorflow_datasets as tfds "
   ]
  },
  {
   "cell_type": "code",
   "execution_count": 2,
   "id": "502ced90",
   "metadata": {},
   "outputs": [],
   "source": [
    "import pathlib\n",
    "# train_data_dir = tf.keras.utils.get_file(origin='Train',\n",
    "#                                          fname='Train',\n",
    "#                                          untar =False)\n",
    "train_data_dir = pathlib.Path('Train')\n",
    "test_data_dir = pathlib.Path('Test')"
   ]
  },
  {
   "cell_type": "code",
   "execution_count": 3,
   "id": "cd07893a",
   "metadata": {},
   "outputs": [
    {
     "name": "stdout",
     "output_type": "stream",
     "text": [
      "Train Images 27455\n",
      "Test Images 7172\n"
     ]
    }
   ],
   "source": [
    "train_img_count = len(list(train_data_dir.glob('*/*.jpg')))\n",
    "print(\"Train Images\",train_img_count)\n",
    "\n",
    "test_img_count = len(list(test_data_dir.glob('*/*.jpg')))\n",
    "print(\"Test Images\",test_img_count)"
   ]
  },
  {
   "cell_type": "code",
   "execution_count": 4,
   "id": "309d0c70",
   "metadata": {},
   "outputs": [
    {
     "data": {
      "image/png": "[encoded data removed]",
      "text/plain": [
       "<PIL.JpegImagePlugin.JpegImageFile image mode=L size=28x28 at 0x7F194DB5BE50>"
      ]
     },
     "execution_count": 4,
     "metadata": {},
     "output_type": "execute_result"
    }
   ],
   "source": [
    "Asigns = list(train_data_dir.glob('A/*'))\n",
    "PIL.Image.open(str(Asigns[5]))"
   ]
  },
  {
   "cell_type": "code",
   "execution_count": 5,
   "id": "7039945d",
   "metadata": {},
   "outputs": [],
   "source": [
    "BATCH_SIZE = 32\n",
    "img_height = 28\n",
    "img_width = 28"
   ]
  },
  {
   "cell_type": "code",
   "execution_count": 6,
   "id": "22e5a93f",
   "metadata": {},
   "outputs": [
    {
     "name": "stdout",
     "output_type": "stream",
     "text": [
      "Found 27455 files belonging to 24 classes.\n",
      "Using 21964 files for training.\n"
     ]
    }
   ],
   "source": [
    "train_ds = tf.keras.preprocessing.image_dataset_from_directory(\n",
    "    train_data_dir,\n",
    "    validation_split=0.2,\n",
    "    subset = \"training\",\n",
    "    seed = 42,\n",
    "    image_size = (img_height,img_width),\n",
    "    batch_size = BATCH_SIZE\n",
    "    \n",
    ")"
   ]
  },
  {
   "cell_type": "code",
   "execution_count": 7,
   "id": "dc14893a",
   "metadata": {},
   "outputs": [
    {
     "name": "stdout",
     "output_type": "stream",
     "text": [
      "Found 27455 files belonging to 24 classes.\n",
      "Using 5491 files for validation.\n"
     ]
    }
   ],
   "source": [
    "val_ds = tf.keras.preprocessing.image_dataset_from_directory(\n",
    "    train_data_dir,\n",
    "    validation_split=0.2,\n",
    "    subset = \"validation\",\n",
    "    seed = 42,\n",
    "    image_size = (img_height,img_width),\n",
    "    batch_size = BATCH_SIZE\n",
    "    \n",
    ")"
   ]
  },
  {
   "cell_type": "code",
   "execution_count": 8,
   "id": "94451727",
   "metadata": {},
   "outputs": [
    {
     "name": "stdout",
     "output_type": "stream",
     "text": [
      "['A', 'B', 'C', 'D', 'E', 'F', 'G', 'H', 'I', 'K', 'L', 'M', 'N', 'O', 'P', 'Q', 'R', 'S', 'T', 'U', 'V', 'W', 'X', 'Y']\n"
     ]
    }
   ],
   "source": [
    "class_names = train_ds.class_names\n",
    "print(class_names)"
   ]
  },
  {
   "cell_type": "code",
   "execution_count": 9,
   "id": "f68ed52e",
   "metadata": {},
   "outputs": [
    {
     "data": {
      "text/plain": [
       "24"
      ]
     },
     "execution_count": 9,
     "metadata": {},
     "output_type": "execute_result"
    }
   ],
   "source": [
    "len(class_names)"
   ]
  },
  {
   "cell_type": "code",
   "execution_count": 10,
   "id": "32d784a5",
   "metadata": {},
   "outputs": [
    {
     "data": {
      "image/png": "[encoded data removed]",
      "text/plain": [
       "<Figure size 720x720 with 9 Axes>"
      ]
     },
     "metadata": {
      "needs_background": "light"
     },
     "output_type": "display_data"
    }
   ],
   "source": [
    "import matplotlib.pyplot as plt \n",
    "\n",
    "plt.figure(figsize=(10,10))\n",
    "for imgs,labels in train_ds.take(1):\n",
    "    for i in range (9):\n",
    "        ax = plt.subplot(3,3, i + 1)\n",
    "        plt.imshow(imgs[i].numpy().astype(\"uint8\"))\n",
    "        plt.title(class_names[labels[i]])\n",
    "        plt.axis(\"off\")"
   ]
  },
  {
   "cell_type": "code",
   "execution_count": 11,
   "id": "8841f064",
   "metadata": {},
   "outputs": [
    {
     "name": "stdout",
     "output_type": "stream",
     "text": [
      "(32, 28, 28, 3)\n",
      "(32,)\n"
     ]
    }
   ],
   "source": [
    "for image_batch, labels_batch in train_ds:\n",
    "    print(image_batch.shape)\n",
    "    print(labels_batch.shape)\n",
    "    break"
   ]
  },
  {
   "cell_type": "code",
   "execution_count": 12,
   "id": "64b234bd",
   "metadata": {},
   "outputs": [],
   "source": [
    "normalization_layer = tf.keras.layers.experimental.preprocessing.Rescaling(1./255)"
   ]
  },
  {
   "cell_type": "code",
   "execution_count": 13,
   "id": "4da42f19",
   "metadata": {},
   "outputs": [
    {
     "name": "stdout",
     "output_type": "stream",
     "text": [
      "0.050980397 0.8470589\n"
     ]
    }
   ],
   "source": [
    "normalized_ds = train_ds.map(lambda x, y: (normalization_layer(x), y))\n",
    "imgs_batch, labels_batch = next(iter(normalized_ds))\n",
    "first_image = imgs_batch[0]\n",
    "print(np.min(first_image), np.max(first_image))"
   ]
  },
  {
   "cell_type": "code",
   "execution_count": 14,
   "id": "34fb09c1",
   "metadata": {},
   "outputs": [],
   "source": [
    "AUTOTUNE = tf.data.AUTOTUNE\n",
    "train_ds = train_ds.cache().prefetch(buffer_size = AUTOTUNE)\n",
    "val_ds = val_ds.cache().prefetch(buffer_size = AUTOTUNE)    "
   ]
  },
  {
   "cell_type": "code",
   "execution_count": 15,
   "id": "e79537aa",
   "metadata": {},
   "outputs": [],
   "source": [
    "num_classes = 24\n",
    "\n",
    "model = tf.keras.Sequential([\n",
    "    tf.keras.layers.experimental.preprocessing.Rescaling(1./255),\n",
    "    tf.keras.layers.Conv2D(28 , 3),\n",
    "    tf.keras.layers.MaxPooling2D(),\n",
    "    tf.keras.layers.Conv2D(28 , 3),\n",
    "    tf.keras.layers.MaxPooling2D(),\n",
    "    tf.keras.layers.Conv2D(28 , 3),\n",
    "    tf.keras.layers.MaxPooling2D(),\n",
    "    tf.keras.layers.Flatten(),\n",
    "    tf.keras.layers.Dense(128,activation='relu'),\n",
    "    tf.keras.layers.Dense(num_classes)\n",
    "])"
   ]
  },
  {
   "cell_type": "code",
   "execution_count": 16,
   "id": "b24e337e",
   "metadata": {},
   "outputs": [],
   "source": [
    "model.compile(\n",
    "  optimizer='adam',\n",
    "  loss=tf.losses.SparseCategoricalCrossentropy(from_logits=True),\n",
    "  metrics=['accuracy'])"
   ]
  },
  {
   "cell_type": "code",
   "execution_count": 17,
   "id": "fa033cfe",
   "metadata": {},
   "outputs": [
    {
     "name": "stdout",
     "output_type": "stream",
     "text": [
      "Epoch 1/10\n",
      "687/687 [==============================] - 5s 7ms/step - loss: 1.4011 - accuracy: 0.5606 - val_loss: 0.4461 - val_accuracy: 0.8543\n",
      "Epoch 2/10\n",
      "687/687 [==============================] - 6s 8ms/step - loss: 0.2355 - accuracy: 0.9249 - val_loss: 0.0973 - val_accuracy: 0.9743\n",
      "Epoch 3/10\n",
      "687/687 [==============================] - 6s 9ms/step - loss: 0.0649 - accuracy: 0.9840 - val_loss: 0.0345 - val_accuracy: 0.9925\n",
      "Epoch 4/10\n",
      "687/687 [==============================] - 6s 9ms/step - loss: 0.0288 - accuracy: 0.9921 - val_loss: 0.0392 - val_accuracy: 0.9882\n",
      "Epoch 5/10\n",
      "687/687 [==============================] - 6s 8ms/step - loss: 0.0141 - accuracy: 0.9964 - val_loss: 0.0114 - val_accuracy: 0.9973\n",
      "Epoch 6/10\n",
      "687/687 [==============================] - 6s 8ms/step - loss: 0.0444 - accuracy: 0.9862 - val_loss: 0.0031 - val_accuracy: 1.0000\n",
      "Epoch 7/10\n",
      "687/687 [==============================] - 6s 9ms/step - loss: 0.0013 - accuracy: 1.0000 - val_loss: 0.0022 - val_accuracy: 0.9998\n",
      "Epoch 8/10\n",
      "687/687 [==============================] - 6s 9ms/step - loss: 7.5694e-04 - accuracy: 1.0000 - val_loss: 0.0011 - val_accuracy: 0.9998\n",
      "Epoch 9/10\n",
      "687/687 [==============================] - 7s 10ms/step - loss: 3.8998e-04 - accuracy: 1.0000 - val_loss: 8.7732e-04 - val_accuracy: 0.9998\n",
      "Epoch 10/10\n",
      "687/687 [==============================] - 7s 9ms/step - loss: 2.5951e-04 - accuracy: 1.0000 - val_loss: 7.1225e-04 - val_accuracy: 0.9998\n"
     ]
    }
   ],
   "source": [
    "history = model.fit(train_ds, epochs = 10, validation_data = val_ds)"
   ]
  },
  {
   "cell_type": "code",
   "execution_count": 18,
   "id": "05b30fbe",
   "metadata": {},
   "outputs": [],
   "source": [
    "def plot_graph(history, metric):\n",
    "    plt.plot(history.history[metric])\n",
    "    plt.plot(history.history['val_' +metric], '')\n",
    "    plt.xlabel(\"Epochs\")\n",
    "    plt.ylabel(metric)\n",
    "    plt.legend([metric, 'val_'+metric])"
   ]
  },
  {
   "cell_type": "code",
   "execution_count": 21,
   "id": "51b40de3",
   "metadata": {},
   "outputs": [
    {
     "data": {
      "image/png": "[encoded data removed]",
      "text/plain": [
       "<Figure size 432x288 with 1 Axes>"
      ]
     },
     "metadata": {
      "needs_background": "light"
     },
     "output_type": "display_data"
    }
   ],
   "source": [
    "plot_graph(history,'accuracy')"
   ]
  },
  {
   "cell_type": "code",
   "execution_count": 22,
   "id": "4f714573",
   "metadata": {},
   "outputs": [
    {
     "data": {
      "image/png": "[encoded data removed]",
      "text/plain": [
       "<Figure size 432x288 with 1 Axes>"
      ]
     },
     "metadata": {
      "needs_background": "light"
     },
     "output_type": "display_data"
    }
   ],
   "source": [
    "plot_graph(history,'loss')"
   ]
  },
  {
   "cell_type": "code",
   "execution_count": 23,
   "id": "7f284379",
   "metadata": {},
   "outputs": [],
   "source": [
    "model.save('hand_signs_classification.h5')"
   ]
  },
  {
   "cell_type": "code",
   "execution_count": 26,
   "id": "744e8810",
   "metadata": {},
   "outputs": [
    {
     "name": "stdout",
     "output_type": "stream",
     "text": [
      "Found 7172 files belonging to 24 classes.\n"
     ]
    }
   ],
   "source": [
    "train_ds = tf.keras.preprocessing.image_dataset_from_directory(\n",
    "    test_data_dir,\n",
    "    seed = 42,\n",
    "    image_size = (img_height,img_width),\n",
    "    batch_size = BATCH_SIZE\n",
    "    \n",
    ")"
   ]
  },
  {
   "cell_type": "code",
   "execution_count": 28,
   "id": "45969bc2",
   "metadata": {},
   "outputs": [],
   "source": [
    "train_ds = train_ds.cache().prefetch(buffer_size = AUTOTUNE)"
   ]
  },
  {
   "cell_type": "code",
   "execution_count": 30,
   "id": "c646227d",
   "metadata": {},
   "outputs": [
    {
     "name": "stdout",
     "output_type": "stream",
     "text": [
      "225/225 [==============================] - 1s 3ms/step - loss: 0.9979 - accuracy: 0.8454\n"
     ]
    },
    {
     "data": {
      "text/plain": [
       "[0.9978565573692322, 0.845370888710022]"
      ]
     },
     "execution_count": 30,
     "metadata": {},
     "output_type": "execute_result"
    }
   ],
   "source": [
    "model.evaluate(train_ds)"
   ]
  }
 ],
 "metadata": {
  "kernelspec": {
   "display_name": "pt-venv",
   "language": "python",
   "name": "pt-venv"
  },
  "language_info": {
   "codemirror_mode": {
    "name": "ipython",
    "version": 3
   },
   "file_extension": ".py",
   "mimetype": "text/x-python",
   "name": "python",
   "nbconvert_exporter": "python",
   "pygments_lexer": "ipython3",
   "version": "3.8.10"
  }
 },
 "nbformat": 4,
 "nbformat_minor": 5
}
